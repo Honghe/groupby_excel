{
 "cells": [
  {
   "cell_type": "code",
   "execution_count": 1,
   "metadata": {},
   "outputs": [],
   "source": [
    "import polars as pl"
   ]
  },
  {
   "cell_type": "code",
   "execution_count": 4,
   "metadata": {},
   "outputs": [],
   "source": [
    "df = pl.DataFrame(\n",
    "    {\n",
    "        \"name\": [\"a\", \"b\", \"a\", \"b\"],\n",
    "        \"age\": [1, 2, 3, 4],\n",
    "        \"gender\": [\"m\", \"m\", \"f\", \"f\"],\n",
    "    }\n",
    ")"
   ]
  },
  {
   "cell_type": "code",
   "execution_count": 5,
   "metadata": {},
   "outputs": [
    {
     "data": {
      "text/html": [
       "<div><style>\n",
       ".dataframe > thead > tr,\n",
       ".dataframe > tbody > tr {\n",
       "  text-align: right;\n",
       "  white-space: pre-wrap;\n",
       "}\n",
       "</style>\n",
       "<small>shape: (4, 3)</small><table border=\"1\" class=\"dataframe\"><thead><tr><th>name</th><th>age</th><th>gender</th></tr><tr><td>str</td><td>i64</td><td>str</td></tr></thead><tbody><tr><td>&quot;a&quot;</td><td>1</td><td>&quot;m&quot;</td></tr><tr><td>&quot;b&quot;</td><td>2</td><td>&quot;m&quot;</td></tr><tr><td>&quot;a&quot;</td><td>3</td><td>&quot;f&quot;</td></tr><tr><td>&quot;b&quot;</td><td>4</td><td>&quot;f&quot;</td></tr></tbody></table></div>"
      ],
      "text/plain": [
       "shape: (4, 3)\n",
       "┌──────┬─────┬────────┐\n",
       "│ name ┆ age ┆ gender │\n",
       "│ ---  ┆ --- ┆ ---    │\n",
       "│ str  ┆ i64 ┆ str    │\n",
       "╞══════╪═════╪════════╡\n",
       "│ a    ┆ 1   ┆ m      │\n",
       "│ b    ┆ 2   ┆ m      │\n",
       "│ a    ┆ 3   ┆ f      │\n",
       "│ b    ┆ 4   ┆ f      │\n",
       "└──────┴─────┴────────┘"
      ]
     },
     "execution_count": 5,
     "metadata": {},
     "output_type": "execute_result"
    }
   ],
   "source": [
    "df"
   ]
  },
  {
   "cell_type": "code",
   "execution_count": 13,
   "metadata": {},
   "outputs": [
    {
     "data": {
      "text/html": [
       "<div><style>\n",
       ".dataframe > thead > tr,\n",
       ".dataframe > tbody > tr {\n",
       "  text-align: right;\n",
       "  white-space: pre-wrap;\n",
       "}\n",
       "</style>\n",
       "<small>shape: (2, 3)</small><table border=\"1\" class=\"dataframe\"><thead><tr><th>name</th><th>age+</th><th>gender+</th></tr><tr><td>str</td><td>i64</td><td>str</td></tr></thead><tbody><tr><td>&quot;a&quot;</td><td>4</td><td>&quot;m-f&quot;</td></tr><tr><td>&quot;b&quot;</td><td>6</td><td>&quot;m-f&quot;</td></tr></tbody></table></div>"
      ],
      "text/plain": [
       "shape: (2, 3)\n",
       "┌──────┬──────┬─────────┐\n",
       "│ name ┆ age+ ┆ gender+ │\n",
       "│ ---  ┆ ---  ┆ ---     │\n",
       "│ str  ┆ i64  ┆ str     │\n",
       "╞══════╪══════╪═════════╡\n",
       "│ a    ┆ 4    ┆ m-f     │\n",
       "│ b    ┆ 6    ┆ m-f     │\n",
       "└──────┴──────┴─────────┘"
      ]
     },
     "execution_count": 13,
     "metadata": {},
     "output_type": "execute_result"
    }
   ],
   "source": [
    "df.group_by(\"name\").agg(\n",
    "    pl.col(\"age\").sum().alias(\"age+\"),\n",
    "    pl.col(\"gender\").str.concat(\"-\").alias(\"gender+\"),\n",
    "    )"
   ]
  }
 ],
 "metadata": {
  "kernelspec": {
   "display_name": "py312",
   "language": "python",
   "name": "python3"
  },
  "language_info": {
   "codemirror_mode": {
    "name": "ipython",
    "version": 3
   },
   "file_extension": ".py",
   "mimetype": "text/x-python",
   "name": "python",
   "nbconvert_exporter": "python",
   "pygments_lexer": "ipython3",
   "version": "3.12.4"
  }
 },
 "nbformat": 4,
 "nbformat_minor": 2
}
